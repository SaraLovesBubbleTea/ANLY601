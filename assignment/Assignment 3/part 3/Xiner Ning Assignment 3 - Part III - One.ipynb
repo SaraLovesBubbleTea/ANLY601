{
 "cells": [
  {
   "cell_type": "markdown",
   "metadata": {},
   "source": [
    "## Part 1: For a ReLu network:\n",
    "### A. Plot the loss functions for vanilla_sgd, sgd_w_reg, sgd_w_momentum, sgd_w_reg_momentum_drop_out or the default parameters."
   ]
  },
  {
   "cell_type": "code",
   "execution_count": 1,
   "metadata": {
    "collapsed": true
   },
   "outputs": [],
   "source": [
    "##########################\n",
    "#   Importing libraries  #\n",
    "##########################\n",
    "import numpy as np\n",
    "import pandas as pd\n",
    "from matplotlib import pyplot as py\n",
    "import time\n",
    "\n",
    "#%%%%%%%%%%%%%%%%%%%%%%%%%%%%%%\n",
    "#   Generate some training    #\n",
    "#      data from a GMM        #\n",
    "###############################\n",
    "def gen_gmm_data(n = 999, plot=False):\n",
    "    # Fixing seed for repeatability\n",
    "    np.random.seed(123)\n",
    "    \n",
    "    # Parameters of a normal distribuion\n",
    "    mean_1 = [0, 2] ; mean_2 = [2, -2] ; mean_3 = [-2, -2]\n",
    "    mean = [mean_1, mean_2, mean_3] ; cov = [[1, 0], [0, 1]]  \n",
    "    \n",
    "    # Setting up the class probabilities\n",
    "    n_samples = n\n",
    "    pr_class_1 = pr_class_2 = pr_class_3 = 1/3.0\n",
    "    n_class = (n_samples * np.array([pr_class_1,pr_class_2, pr_class_3])).astype(int)\n",
    "  \n",
    "    # Generate sample data\n",
    "    for i in range(3):\n",
    "        x1,x2 = np.random.multivariate_normal(mean[i], cov, n_class[i]).T\n",
    "        if (i==0):\n",
    "            xs = np.array([x1,x2])\n",
    "            cl = np.array([n_class[i]*[i]])\n",
    "        else: \n",
    "            xs_new = np.array([x1,x2])\n",
    "            cl_new = np.array([n_class[i]*[i]])\n",
    "            xs = np.concatenate((xs, xs_new), axis = 1)\n",
    "            cl = np.concatenate((cl, cl_new), axis = 1)\n",
    "    \n",
    "    # Plot?\n",
    "    if plot:\n",
    "        py.scatter(xs[:1,:],xs[1:,:], c = cl)\n",
    "\n",
    "    # One hot encoding classes\n",
    "    y = pd.Series(cl[0].tolist())\n",
    "    y = pd.get_dummies(y).as_matrix() \n",
    "\n",
    "    # Normalizing data (prevents overflow errors)     \n",
    "    mu = xs.mean(axis = 1)\n",
    "    std = xs.std(axis = 1)\n",
    "    xs = (xs.T - mu) / std\n",
    "    \n",
    "    return xs, y, cl"
   ]
  },
  {
   "cell_type": "code",
   "execution_count": 2,
   "metadata": {
    "collapsed": true
   },
   "outputs": [],
   "source": [
    "#%%%%%%%%%%%%%%%%%%%%%%%\n",
    "#    Hidden Units     #\n",
    "#######################\n",
    "ReLU = np.vectorize(lambda z: np.fmax(0,z))\n",
    "sigmoid = lambda z: 1 / (1 + np.exp(-z))\n",
    "softmax = lambda z: np.exp(z)/(np.sum(np.exp(z),axis=1))[:,np.newaxis]\n",
    "\n",
    "# %%%%%%%%%%%%%%%%%%%%%\n",
    "#  Utility Functions  #\n",
    "# #####################\n",
    "def predict(Y_hat):\n",
    "    return np.argmax(Y_hat, axis=1)\n",
    "\n",
    "\n",
    "def error_rate(Y_hat, cl):\n",
    "    prediction = predict(Y_hat)\n",
    "    return np.mean(prediction != cl)\n",
    "\n",
    "\n",
    "def cost(Y_hat, Y):\n",
    "    tot = Y * np.log(Y_hat)\n",
    "    return -tot.sum()\n",
    "\n",
    "#%%%%%%%%%%%%%%%%%%%%%%%%%%%%%%%%%%%\n",
    "#   1- Hidden Layer ReLU Network   #\n",
    "####################################\n",
    "def forward(X,parameters, drop_out = 1):\n",
    "    # Unpacking parameters    \n",
    "    W,b1,V,b2 = parameters\n",
    "    \n",
    "    # Forward pass\n",
    "    a1 = X.dot(W) + b1\n",
    "    H = ReLU(a1) * drop_out\n",
    "    # H = sigmoid(a1) * drop_out\n",
    "    a2 = H.dot(V) + b2\n",
    "    Y_hat = softmax(a2)\n",
    "    return H,Y_hat\n",
    "\n",
    "#%%%%%%%%%%%%%%%\n",
    "#   Gradient   #\n",
    "################\n",
    "\n",
    "def grad(X,H,Y,Y_hat,parameters):  \n",
    "    # Unpacking parameters    \n",
    "    W,b1,V,b2 = parameters\n",
    "    # Gradients - ReLU\n",
    "    dV = H.T.dot(Y_hat - Y)\n",
    "    db2 = (Y_hat - Y).sum(axis=0)\n",
    "    dW = X.T.dot(((Y_hat - Y).dot(V.T) * (H > 0))) \n",
    "    db1 = ((Y_hat - Y).dot(V.T) * (H > 0)).sum(axis=0)\n",
    "    \n",
    "    # Gradients - sigmoid\n",
    "    # dW = X.T.dot((Y_hat-Y).dot(V) * (H * (1 - H)))\n",
    "    # db1 = (Y_hat-Y).dot(V) * (H * (1 - H)).sum(axis=0)\n",
    "    \n",
    "    \n",
    "    #return {'dV':dV,'db2':db2,'dW':dW,'db1':db1}\n",
    "    return dW,db1,dV,db2\n",
    "\n",
    "#%%%%%%%%%%%%%%%%%%%%%%%%%%%%%%%%%%%%%%%%%%%%%%%%%%\n",
    "#   Parameter Update: Momentum + Regularization   #\n",
    "###################################################\n",
    "def parameter_update(parameters,  grads, \n",
    "                     momentum_params = [0,0,0,0], \n",
    "                     lr = 1, reg = 0, alpha = 0):\n",
    "    # Unpacking parameters            \n",
    "    W,b1,V,b2 = parameters\n",
    "    dW,db1,dV,db2 = grads\n",
    "    vW,vb1,vV,vb2 = momentum_params\n",
    "    \n",
    "    # Momentum update\n",
    "    vW  = alpha * vW -  lr * (dW + reg*W)\n",
    "    vb1 = alpha * vb1 - lr * (db1 + reg*b1)\n",
    "    vV  = alpha * vV -  lr * (dV + reg*V)\n",
    "    vb2 = alpha * vb2 - lr * (db2 + reg*b2)\n",
    "    momentum_params = [vW,vb1,vV,vb2] \n",
    "    \n",
    "    # Parameter updates\n",
    "    W  = W  + vW\n",
    "    b1 = b1 + vb1\n",
    "    V  = V  + vV\n",
    "    b2 = b2 + vb2\n",
    "    parameters =[W,b1,V,b2]\n",
    "\n",
    "             \n",
    "    return parameters, momentum_params\n",
    "\n",
    "#%%%%%%%%%%%%%%%%%%%%%%%%%%%%%%%%\n",
    "#  Generate data for network    #\n",
    "#################################\n",
    "X, Y, cl = gen_gmm_data()\n",
    "\n",
    "# %%%%%%%%%%%%%%%%%%%%%%%%%%%%%\n",
    "#      Building the model     #\n",
    "###############################\n",
    "def run_model(X, Y, cl,\n",
    "              nodes_in_hidden_layer = 3,\n",
    "              num_dim = 2,     # <- number of dimensions here it is 2: x1,x2\n",
    "              num_classes = 3, # <- number of classes in the problem\n",
    "              iterations = 1000,\n",
    "              regularization_include = False,\n",
    "              momentum_include = False,\n",
    "              drop_out_include = False):    \n",
    "\n",
    "    \n",
    "    ###################################\n",
    "    #   Initial values for network    #\n",
    "    ###################################\n",
    "    # Intialize weights\n",
    "    np.random.seed(123)\n",
    "    W = np.random.randn(num_dim * nodes_in_hidden_layer).reshape(num_dim,nodes_in_hidden_layer)\n",
    "    b1 = 0\n",
    "    V = np.random.randn(num_classes * nodes_in_hidden_layer).reshape(nodes_in_hidden_layer,num_classes)\n",
    "    b2 = 0\n",
    "    parameters = [W,b1,V,b2]\n",
    "    \n",
    "    \n",
    "    # Hyperparameters \n",
    "    lr = 0.0001 # learning rate\n",
    "    reg = 0.01 * regularization_include\n",
    "    \n",
    "    # Momentum parameters\n",
    "    alpha = 0.9 * momentum_include\n",
    "    vV = 0\n",
    "    vb2 = 0\n",
    "    vW = 0\n",
    "    vb1 = 0\n",
    "    momentum_params = [vW,vb1,vV,vb2]    \n",
    "    \n",
    "    # Place holder for losses\n",
    "    losses = []\n",
    "    errors = []    \n",
    "   \n",
    "    ###################\n",
    "    #   Run the model #\n",
    "    ###################\n",
    "    for i in range(0,iterations):\n",
    "        # -- Drop Out Mask --\n",
    "        # When !=1 then ddrop rate is 12.5%  (~0.5/4 = 12.5%)\n",
    "        # Short cut to include drop_out \n",
    "        drop_out =  (1 - drop_out_include) + drop_out_include * np.round(1-np.random.rand(nodes_in_hidden_layer)/4) \n",
    "        \n",
    "        # -- Forward propoagation --\n",
    "        H,Y_hat = forward(X,parameters,drop_out)\n",
    "        \n",
    "        # -- Backward propagation --\n",
    "        # Gradient calculation\n",
    "        grads_in = grad(X,H,Y,Y_hat,parameters)\n",
    "        # Parameter update\n",
    "        new_params, new_mom_param = parameter_update(parameters, grads_in, \n",
    "                             momentum_params, alpha = alpha, \n",
    "                             lr = lr, reg = reg)\n",
    "        \n",
    "        # -- Updating values --\n",
    "        H,Y_hat = forward(X,new_params, drop_out)\n",
    "        parameters = new_params\n",
    "        momentum_params = new_mom_param\n",
    "        # Prediction and Error rate            \n",
    "        errs_i = error_rate(Y_hat, cl) ; errors.append(errs_i)\n",
    "        loss_i = cost(Y_hat, Y); losses.append(loss_i)\n",
    "        if ((i % 25) == 0):    \n",
    "            print(\n",
    "            '''\n",
    "            ---- Iteration {i} ----\n",
    "            Error rate : {er}\n",
    "            Loss: {loss}\n",
    "            '''.format(i= i, er = errs_i, loss = loss_i))\n",
    "    return {\"errors\":errs_i, \"loss\":losses, \"parameters\":parameters}"
   ]
  },
  {
   "cell_type": "code",
   "execution_count": 3,
   "metadata": {},
   "outputs": [
    {
     "name": "stdout",
     "output_type": "stream",
     "text": [
      "\n",
      "            ---- Iteration 0 ----\n",
      "            Error rate : 0.34234234234234234\n",
      "            Loss: 613.5034085448333\n",
      "            \n",
      "\n",
      "            ---- Iteration 25 ----\n",
      "            Error rate : 0.04504504504504504\n",
      "            Loss: 230.39605917572294\n",
      "            \n",
      "\n",
      "            ---- Iteration 50 ----\n",
      "            Error rate : 0.03303303303303303\n",
      "            Loss: 150.17197232981292\n",
      "            \n",
      "\n",
      "            ---- Iteration 75 ----\n",
      "            Error rate : 0.03003003003003003\n",
      "            Loss: 120.61145170075918\n",
      "            \n"
     ]
    },
    {
     "data": {
      "text/plain": [
       "[<matplotlib.lines.Line2D at 0x216d979f978>]"
      ]
     },
     "execution_count": 3,
     "metadata": {},
     "output_type": "execute_result"
    },
    {
     "data": {
      "image/png": "[encoded data removed]",
      "text/plain": [
       "<matplotlib.figure.Figure at 0x216d6c9a6a0>"
      ]
     },
     "metadata": {},
     "output_type": "display_data"
    }
   ],
   "source": [
    "vanilla_sgd = run_model(X,Y,cl, iterations = 100,\n",
    "              regularization_include = False,\n",
    "              momentum_include = False,\n",
    "              drop_out_include = False)\n",
    "%matplotlib inline\n",
    "py.plot(vanilla_sgd['loss'])"
   ]
  },
  {
   "cell_type": "code",
   "execution_count": 4,
   "metadata": {},
   "outputs": [
    {
     "name": "stdout",
     "output_type": "stream",
     "text": [
      "\n",
      "            ---- Iteration 0 ----\n",
      "            Error rate : 0.34234234234234234\n",
      "            Loss: 613.5029983606919\n",
      "            \n",
      "\n",
      "            ---- Iteration 25 ----\n",
      "            Error rate : 0.04504504504504504\n",
      "            Loss: 230.4035439464711\n",
      "            \n",
      "\n",
      "            ---- Iteration 50 ----\n",
      "            Error rate : 0.03303303303303303\n",
      "            Loss: 150.18172488031507\n",
      "            \n",
      "\n",
      "            ---- Iteration 75 ----\n",
      "            Error rate : 0.03003003003003003\n",
      "            Loss: 120.62280456538743\n",
      "            \n"
     ]
    },
    {
     "data": {
      "text/plain": [
       "[<matplotlib.lines.Line2D at 0x216d9ac4630>]"
      ]
     },
     "execution_count": 4,
     "metadata": {},
     "output_type": "execute_result"
    },
    {
     "data": {
      "image/png": "[encoded data removed]",
      "text/plain": [
       "<matplotlib.figure.Figure at 0x216d6593780>"
      ]
     },
     "metadata": {},
     "output_type": "display_data"
    }
   ],
   "source": [
    "sgd_w_reg = run_model(X,Y,cl, iterations = 100,\n",
    "              regularization_include = True,\n",
    "              momentum_include = False,\n",
    "              drop_out_include = False)\n",
    "%matplotlib inline\n",
    "py.plot(sgd_w_reg['loss'])\n",
    " "
   ]
  },
  {
   "cell_type": "code",
   "execution_count": 5,
   "metadata": {},
   "outputs": [
    {
     "name": "stdout",
     "output_type": "stream",
     "text": [
      "\n",
      "            ---- Iteration 0 ----\n",
      "            Error rate : 0.34234234234234234\n",
      "            Loss: 613.5029983606919\n",
      "            \n",
      "\n",
      "            ---- Iteration 25 ----\n",
      "            Error rate : 0.024024024024024024\n",
      "            Loss: 80.9829547192347\n",
      "            \n",
      "\n",
      "            ---- Iteration 50 ----\n",
      "            Error rate : 0.026026026026026026\n",
      "            Loss: 72.76404956100707\n",
      "            \n",
      "\n",
      "            ---- Iteration 75 ----\n",
      "            Error rate : 0.026026026026026026\n",
      "            Loss: 70.85085902810401\n",
      "            \n"
     ]
    },
    {
     "data": {
      "text/plain": [
       "[<matplotlib.lines.Line2D at 0x216d98e0668>]"
      ]
     },
     "execution_count": 5,
     "metadata": {},
     "output_type": "execute_result"
    },
    {
     "data": {
      "image/png": "[encoded data removed]",
      "text/plain": [
       "<matplotlib.figure.Figure at 0x216d9ae79e8>"
      ]
     },
     "metadata": {},
     "output_type": "display_data"
    }
   ],
   "source": [
    "sgd_w_reg_momentum = run_model(X,Y,cl, iterations = 100,\n",
    "                              regularization_include = True,\n",
    "                              momentum_include = True,\n",
    "                              drop_out_include = False)\n",
    "%matplotlib inline\n",
    "py.plot(sgd_w_reg_momentum['loss'])"
   ]
  },
  {
   "cell_type": "code",
   "execution_count": 6,
   "metadata": {},
   "outputs": [
    {
     "name": "stdout",
     "output_type": "stream",
     "text": [
      "\n",
      "            ---- Iteration 0 ----\n",
      "            Error rate : 0.34234234234234234\n",
      "            Loss: 613.5029983606919\n",
      "            \n",
      "\n",
      "            ---- Iteration 25 ----\n",
      "            Error rate : 0.024024024024024024\n",
      "            Loss: 80.9829547192347\n",
      "            \n",
      "\n",
      "            ---- Iteration 50 ----\n",
      "            Error rate : 0.026026026026026026\n",
      "            Loss: 72.76404956100707\n",
      "            \n",
      "\n",
      "            ---- Iteration 75 ----\n",
      "            Error rate : 0.026026026026026026\n",
      "            Loss: 70.85085902810401\n",
      "            \n"
     ]
    },
    {
     "data": {
      "text/plain": [
       "[<matplotlib.lines.Line2D at 0x216d9bf2470>]"
      ]
     },
     "execution_count": 6,
     "metadata": {},
     "output_type": "execute_result"
    },
    {
     "data": {
      "image/png": "[encoded data removed]",
      "text/plain": [
       "<matplotlib.figure.Figure at 0x216d97922b0>"
      ]
     },
     "metadata": {},
     "output_type": "display_data"
    }
   ],
   "source": [
    "sgd_w_reg_momentum_drop_out = run_model(X,Y,cl, iterations = 100,\n",
    "                                      regularization_include = True,\n",
    "                                      momentum_include = True,\n",
    "                                      drop_out_include = True) \n",
    "%matplotlib inline\n",
    "py.plot(sgd_w_reg_momentum_drop_out['loss'])"
   ]
  },
  {
   "cell_type": "code",
   "execution_count": 7,
   "metadata": {},
   "outputs": [
    {
     "data": {
      "text/plain": [
       "<matplotlib.legend.Legend at 0x216d9c89ac8>"
      ]
     },
     "execution_count": 7,
     "metadata": {},
     "output_type": "execute_result"
    },
    {
     "data": {
      "image/png": "[encoded data removed]",
      "text/plain": [
       "<matplotlib.figure.Figure at 0x216d9c06390>"
      ]
     },
     "metadata": {},
     "output_type": "display_data"
    }
   ],
   "source": [
    "%matplotlib inline\n",
    "py.plot(vanilla_sgd['loss'],label='vanilla')\n",
    "py.plot(sgd_w_reg['loss'],label='sgd_w_reg')\n",
    "py.plot(sgd_w_reg_momentum['loss'],label='sgd_w_reg_momentum')\n",
    "py.plot(sgd_w_reg_momentum_drop_out['loss'],label='sgd_w_reg_momentum_drop_out')\n",
    "py.legend(loc=\"upper right\")\n",
    "\n"
   ]
  },
  {
   "cell_type": "markdown",
   "metadata": {},
   "source": [
    "sgd_w_reg_momentum and sgd_w_reg_momentum_drop_out have better performances than the other two schemes. Because loss decreases quicky in the first 20 iterations for these regularization schemes, and loss are lower in each iteration. "
   ]
  },
  {
   "cell_type": "markdown",
   "metadata": {},
   "source": [
    "### b - Repeate 1.1 with nodes_in_hidden_layer=5"
   ]
  },
  {
   "cell_type": "code",
   "execution_count": 8,
   "metadata": {
    "collapsed": true
   },
   "outputs": [],
   "source": [
    "##########################\n",
    "#   Importing libraries  #\n",
    "##########################\n",
    "import numpy as np\n",
    "import pandas as pd\n",
    "from matplotlib import pyplot as py\n",
    "import time\n",
    "\n",
    "#%%%%%%%%%%%%%%%%%%%%%%%%%%%%%%\n",
    "#   Generate some training    #\n",
    "#      data from a GMM        #\n",
    "###############################\n",
    "def gen_gmm_data(n = 999, plot=False):\n",
    "    # Fixing seed for repeatability\n",
    "    np.random.seed(123)\n",
    "    \n",
    "    # Parameters of a normal distribuion\n",
    "    mean_1 = [0, 2] ; mean_2 = [2, -2] ; mean_3 = [-2, -2]\n",
    "    mean = [mean_1, mean_2, mean_3] ; cov = [[1, 0], [0, 1]]  \n",
    "    \n",
    "    # Setting up the class probabilities\n",
    "    n_samples = n\n",
    "    pr_class_1 = pr_class_2 = pr_class_3 = 1/3.0\n",
    "    n_class = (n_samples * np.array([pr_class_1,pr_class_2, pr_class_3])).astype(int)\n",
    "  \n",
    "    # Generate sample data\n",
    "    for i in range(3):\n",
    "        x1,x2 = np.random.multivariate_normal(mean[i], cov, n_class[i]).T\n",
    "        if (i==0):\n",
    "            xs = np.array([x1,x2])\n",
    "            cl = np.array([n_class[i]*[i]])\n",
    "        else: \n",
    "            xs_new = np.array([x1,x2])\n",
    "            cl_new = np.array([n_class[i]*[i]])\n",
    "            xs = np.concatenate((xs, xs_new), axis = 1)\n",
    "            cl = np.concatenate((cl, cl_new), axis = 1)\n",
    "    \n",
    "    # Plot?\n",
    "    if plot:\n",
    "        py.scatter(xs[:1,:],xs[1:,:], c = cl)\n",
    "\n",
    "    # One hot encoding classes\n",
    "    y = pd.Series(cl[0].tolist())\n",
    "    y = pd.get_dummies(y).as_matrix() \n",
    "\n",
    "    # Normalizing data (prevents overflow errors)     \n",
    "    mu = xs.mean(axis = 1)\n",
    "    std = xs.std(axis = 1)\n",
    "    xs = (xs.T - mu) / std\n",
    "    \n",
    "    return xs, y, cl\n",
    "\n",
    "\n",
    "#%%%%%%%%%%%%%%%%%%%%%%%\n",
    "#    Hidden Units     #\n",
    "#######################\n",
    "ReLU = np.vectorize(lambda z: np.fmax(0,z))\n",
    "sigmoid = lambda z: 1 / (1 + np.exp(-z))\n",
    "softmax = lambda z: np.exp(z)/(np.sum(np.exp(z),axis=1))[:,np.newaxis]\n",
    "\n",
    "# %%%%%%%%%%%%%%%%%%%%%\n",
    "#  Utility Functions  #\n",
    "# #####################\n",
    "def predict(Y_hat):\n",
    "    return np.argmax(Y_hat, axis=1)\n",
    "\n",
    "\n",
    "def error_rate(Y_hat, cl):\n",
    "    prediction = predict(Y_hat)\n",
    "    return np.mean(prediction != cl)\n",
    "\n",
    "\n",
    "def cost(Y_hat, Y):\n",
    "    tot = Y * np.log(Y_hat)\n",
    "    return -tot.sum()\n",
    "\n",
    "#%%%%%%%%%%%%%%%%%%%%%%%%%%%%%%%%%%%\n",
    "#   1- Hidden Layer ReLU Network   #\n",
    "####################################\n",
    "def forward(X,parameters, drop_out = 1):\n",
    "    # Unpacking parameters    \n",
    "    W,b1,V,b2 = parameters\n",
    "    \n",
    "    # Forward pass\n",
    "    a1 = X.dot(W) + b1\n",
    "    H = ReLU(a1) * drop_out\n",
    "    # H = sigmoid(a1) * drop_out\n",
    "    a2 = H.dot(V) + b2\n",
    "    Y_hat = softmax(a2)\n",
    "    return H,Y_hat\n",
    "\n",
    "#%%%%%%%%%%%%%%%\n",
    "#   Gradient   #\n",
    "################\n",
    "\n",
    "def grad(X,H,Y,Y_hat,parameters):  \n",
    "    # Unpacking parameters    \n",
    "    W,b1,V,b2 = parameters\n",
    "    # Gradients - ReLU\n",
    "    dV = H.T.dot(Y_hat - Y)\n",
    "    db2 = (Y_hat - Y).sum(axis=0)\n",
    "    dW = X.T.dot(((Y_hat - Y).dot(V.T) * (H > 0))) \n",
    "    db1 = ((Y_hat - Y).dot(V.T) * (H > 0)).sum(axis=0)\n",
    "    \n",
    "    # Gradients - sigmoid\n",
    "    # dW = X.T.dot((Y_hat-Y).dot(V) * (H * (1 - H)))\n",
    "    # db1 = (Y_hat-Y).dot(V) * (H * (1 - H)).sum(axis=0)\n",
    "    \n",
    "    \n",
    "    #return {'dV':dV,'db2':db2,'dW':dW,'db1':db1}\n",
    "    return dW,db1,dV,db2\n",
    "\n",
    "#%%%%%%%%%%%%%%%%%%%%%%%%%%%%%%%%%%%%%%%%%%%%%%%%%%\n",
    "#   Parameter Update: Momentum + Regularization   #\n",
    "###################################################\n",
    "def parameter_update(parameters,  grads, \n",
    "                     momentum_params = [0,0,0,0], \n",
    "                     lr = 1, reg = 0, alpha = 0):\n",
    "    # Unpacking parameters            \n",
    "    W,b1,V,b2 = parameters\n",
    "    dW,db1,dV,db2 = grads\n",
    "    vW,vb1,vV,vb2 = momentum_params\n",
    "    \n",
    "    # Momentum update\n",
    "    vW  = alpha * vW -  lr * (dW + reg*W)\n",
    "    vb1 = alpha * vb1 - lr * (db1 + reg*b1)\n",
    "    vV  = alpha * vV -  lr * (dV + reg*V)\n",
    "    vb2 = alpha * vb2 - lr * (db2 + reg*b2)\n",
    "    momentum_params = [vW,vb1,vV,vb2] \n",
    "    \n",
    "    # Parameter updates\n",
    "    W  = W  + vW\n",
    "    b1 = b1 + vb1\n",
    "    V  = V  + vV\n",
    "    b2 = b2 + vb2\n",
    "    parameters =[W,b1,V,b2]\n",
    "\n",
    "             \n",
    "    return parameters, momentum_params\n",
    "\n",
    "#%%%%%%%%%%%%%%%%%%%%%%%%%%%%%%%%\n",
    "#  Generate data for network    #\n",
    "#################################\n",
    "X, Y, cl = gen_gmm_data()\n",
    "\n",
    "# %%%%%%%%%%%%%%%%%%%%%%%%%%%%%\n",
    "#      Building the model     #\n",
    "###############################\n",
    "def run_model(X, Y, cl,\n",
    "              nodes_in_hidden_layer = 5,\n",
    "              num_dim = 2,     # <- number of dimensions here it is 2: x1,x2\n",
    "              num_classes = 3, # <- number of classes in the problem\n",
    "              iterations = 1000,\n",
    "              regularization_include = False,\n",
    "              momentum_include = False,\n",
    "              drop_out_include = False):    \n",
    "\n",
    "    \n",
    "    ###################################\n",
    "    #   Initial values for network    #\n",
    "    ###################################\n",
    "    # Intialize weights\n",
    "    np.random.seed(123)\n",
    "    W = np.random.randn(num_dim * nodes_in_hidden_layer).reshape(num_dim,nodes_in_hidden_layer)\n",
    "    b1 = 0\n",
    "    V = np.random.randn(num_classes * nodes_in_hidden_layer).reshape(nodes_in_hidden_layer,num_classes)\n",
    "    b2 = 0\n",
    "    parameters = [W,b1,V,b2]\n",
    "    \n",
    "    \n",
    "    # Hyperparameters \n",
    "    lr = 0.0001 # learning rate\n",
    "    reg = 0.01 * regularization_include\n",
    "    \n",
    "    # Momentum parameters\n",
    "    alpha = 0.9 * momentum_include\n",
    "    vV = 0\n",
    "    vb2 = 0\n",
    "    vW = 0\n",
    "    vb1 = 0\n",
    "    momentum_params = [vW,vb1,vV,vb2]    \n",
    "    \n",
    "    # Place holder for losses\n",
    "    losses = []\n",
    "    errors = []    \n",
    "   \n",
    "    ###################\n",
    "    #   Run the model #\n",
    "    ###################\n",
    "    for i in range(0,iterations):\n",
    "        # -- Drop Out Mask --\n",
    "        # When !=1 then ddrop rate is 12.5%  (~0.5/4 = 12.5%)\n",
    "        # Short cut to include drop_out \n",
    "        drop_out =  (1 - drop_out_include) + drop_out_include * np.round(1-np.random.rand(nodes_in_hidden_layer)/4) \n",
    "        \n",
    "        # -- Forward propoagation --\n",
    "        H,Y_hat = forward(X,parameters,drop_out)\n",
    "        \n",
    "        # -- Backward propagation --\n",
    "        # Gradient calculation\n",
    "        grads_in = grad(X,H,Y,Y_hat,parameters)\n",
    "        # Parameter update\n",
    "        new_params, new_mom_param = parameter_update(parameters, grads_in, \n",
    "                             momentum_params, alpha = alpha, \n",
    "                             lr = lr, reg = reg)\n",
    "        \n",
    "        # -- Updating values --\n",
    "        H,Y_hat = forward(X,new_params, drop_out)\n",
    "        parameters = new_params\n",
    "        momentum_params = new_mom_param\n",
    "        # Prediction and Error rate            \n",
    "        errs_i = error_rate(Y_hat, cl) ; errors.append(errs_i)\n",
    "        loss_i = cost(Y_hat, Y); losses.append(loss_i)\n",
    "        if ((i % 25) == 0):    \n",
    "            print(\n",
    "            '''\n",
    "            ---- Iteration {i} ----\n",
    "            Error rate : {er}\n",
    "            Loss: {loss}\n",
    "            '''.format(i= i, er = errs_i, loss = loss_i))\n",
    "    return {\"errors\":errs_i, \"loss\":losses, \"parameters\":parameters}"
   ]
  },
  {
   "cell_type": "code",
   "execution_count": 9,
   "metadata": {},
   "outputs": [
    {
     "name": "stdout",
     "output_type": "stream",
     "text": [
      "\n",
      "            ---- Iteration 0 ----\n",
      "            Error rate : 0.5665665665665666\n",
      "            Loss: 2614.817307396562\n",
      "            \n",
      "\n",
      "            ---- Iteration 25 ----\n",
      "            Error rate : 0.19519519519519518\n",
      "            Loss: 611.3706509095945\n",
      "            \n",
      "\n",
      "            ---- Iteration 50 ----\n",
      "            Error rate : 0.06806806806806807\n",
      "            Loss: 383.2276735915491\n",
      "            \n",
      "\n",
      "            ---- Iteration 75 ----\n",
      "            Error rate : 0.042042042042042045\n",
      "            Loss: 251.5054950877491\n",
      "            \n"
     ]
    },
    {
     "data": {
      "text/plain": [
       "[<matplotlib.lines.Line2D at 0x216d9d6a400>]"
      ]
     },
     "execution_count": 9,
     "metadata": {},
     "output_type": "execute_result"
    },
    {
     "data": {
      "image/png": "[encoded data removed]",
      "text/plain": [
       "<matplotlib.figure.Figure at 0x216d99ff630>"
      ]
     },
     "metadata": {},
     "output_type": "display_data"
    }
   ],
   "source": [
    "vanilla_sgd = run_model(X,Y,cl, iterations = 100,\n",
    "              regularization_include = False,\n",
    "              momentum_include = False,\n",
    "              drop_out_include = False)\n",
    "%matplotlib inline\n",
    "py.plot(vanilla_sgd['loss'])"
   ]
  },
  {
   "cell_type": "code",
   "execution_count": 10,
   "metadata": {},
   "outputs": [
    {
     "name": "stdout",
     "output_type": "stream",
     "text": [
      "\n",
      "            ---- Iteration 0 ----\n",
      "            Error rate : 0.5665665665665666\n",
      "            Loss: 2614.812898743622\n",
      "            \n",
      "\n",
      "            ---- Iteration 25 ----\n",
      "            Error rate : 0.19519519519519518\n",
      "            Loss: 611.3780321566293\n",
      "            \n",
      "\n",
      "            ---- Iteration 50 ----\n",
      "            Error rate : 0.06806806806806807\n",
      "            Loss: 383.2431105201206\n",
      "            \n",
      "\n",
      "            ---- Iteration 75 ----\n",
      "            Error rate : 0.042042042042042045\n",
      "            Loss: 251.5185754232598\n",
      "            \n"
     ]
    },
    {
     "data": {
      "text/plain": [
       "[<matplotlib.lines.Line2D at 0x216da034518>]"
      ]
     },
     "execution_count": 10,
     "metadata": {},
     "output_type": "execute_result"
    },
    {
     "data": {
      "image/png": "[encoded data removed]",
      "text/plain": [
       "<matplotlib.figure.Figure at 0x216d9ca6780>"
      ]
     },
     "metadata": {},
     "output_type": "display_data"
    }
   ],
   "source": [
    "sgd_w_reg = run_model(X,Y,cl, iterations = 100,\n",
    "              regularization_include = True,\n",
    "              momentum_include = False,\n",
    "              drop_out_include = False)\n",
    "%matplotlib inline\n",
    "py.plot(sgd_w_reg['loss'])"
   ]
  },
  {
   "cell_type": "code",
   "execution_count": 11,
   "metadata": {},
   "outputs": [
    {
     "name": "stdout",
     "output_type": "stream",
     "text": [
      "\n",
      "            ---- Iteration 0 ----\n",
      "            Error rate : 0.5665665665665666\n",
      "            Loss: 2614.812898743622\n",
      "            \n",
      "\n",
      "            ---- Iteration 25 ----\n",
      "            Error rate : 0.042042042042042045\n",
      "            Loss: 177.3398332972754\n",
      "            \n",
      "\n",
      "            ---- Iteration 50 ----\n",
      "            Error rate : 0.028028028028028028\n",
      "            Loss: 92.94331996077938\n",
      "            \n",
      "\n",
      "            ---- Iteration 75 ----\n",
      "            Error rate : 0.023023023023023025\n",
      "            Loss: 83.57093363386096\n",
      "            \n"
     ]
    },
    {
     "data": {
      "text/plain": [
       "[<matplotlib.lines.Line2D at 0x216da0c2c50>]"
      ]
     },
     "execution_count": 11,
     "metadata": {},
     "output_type": "execute_result"
    },
    {
     "data": {
      "image/png": "[encoded data removed]",
      "text/plain": [
       "<matplotlib.figure.Figure at 0x216d9d999b0>"
      ]
     },
     "metadata": {},
     "output_type": "display_data"
    }
   ],
   "source": [
    "sgd_w_reg_momentum = run_model(X,Y,cl, iterations = 100,\n",
    "                              regularization_include = True,\n",
    "                              momentum_include = True,\n",
    "                              drop_out_include = False)\n",
    "%matplotlib inline\n",
    "py.plot(sgd_w_reg_momentum['loss'])"
   ]
  },
  {
   "cell_type": "code",
   "execution_count": 12,
   "metadata": {},
   "outputs": [
    {
     "name": "stdout",
     "output_type": "stream",
     "text": [
      "\n",
      "            ---- Iteration 0 ----\n",
      "            Error rate : 0.5665665665665666\n",
      "            Loss: 2614.812898743622\n",
      "            \n",
      "\n",
      "            ---- Iteration 25 ----\n",
      "            Error rate : 0.042042042042042045\n",
      "            Loss: 177.3398332972754\n",
      "            \n",
      "\n",
      "            ---- Iteration 50 ----\n",
      "            Error rate : 0.028028028028028028\n",
      "            Loss: 92.94331996077938\n",
      "            \n",
      "\n",
      "            ---- Iteration 75 ----\n",
      "            Error rate : 0.023023023023023025\n",
      "            Loss: 83.57093363386096\n",
      "            \n"
     ]
    },
    {
     "data": {
      "text/plain": [
       "[<matplotlib.lines.Line2D at 0x216db12a908>]"
      ]
     },
     "execution_count": 12,
     "metadata": {},
     "output_type": "execute_result"
    },
    {
     "data": {
      "image/png": "[encoded data removed]",
      "text/plain": [
       "<matplotlib.figure.Figure at 0x216d9cc0e48>"
      ]
     },
     "metadata": {},
     "output_type": "display_data"
    }
   ],
   "source": [
    "sgd_w_reg_momentum_drop_out = run_model(X,Y,cl, iterations = 100,\n",
    "                                      regularization_include = True,\n",
    "                                      momentum_include = True,\n",
    "                                      drop_out_include = True) \n",
    "%matplotlib inline\n",
    "py.plot(sgd_w_reg_momentum_drop_out['loss'])"
   ]
  },
  {
   "cell_type": "code",
   "execution_count": 13,
   "metadata": {},
   "outputs": [
    {
     "data": {
      "text/plain": [
       "<matplotlib.legend.Legend at 0x216db1c6f28>"
      ]
     },
     "execution_count": 13,
     "metadata": {},
     "output_type": "execute_result"
    },
    {
     "data": {
      "image/png": "[encoded data removed]",
      "text/plain": [
       "<matplotlib.figure.Figure at 0x216db13c438>"
      ]
     },
     "metadata": {},
     "output_type": "display_data"
    }
   ],
   "source": [
    "%matplotlib inline\n",
    "py.plot(vanilla_sgd['loss'],label='vanilla')\n",
    "py.plot(sgd_w_reg['loss'],label='sgd_w_reg')\n",
    "py.plot(sgd_w_reg_momentum['loss'],label='sgd_w_reg_momentum')\n",
    "py.plot(sgd_w_reg_momentum_drop_out['loss'],label='sgd_w_reg_momentum_drop_out')\n",
    "py.legend(loc=\"upper right\")\n",
    "\n"
   ]
  },
  {
   "cell_type": "markdown",
   "metadata": {},
   "source": [
    "Same as before, sgd_w_reg_momentum and sgd_w_reg_momentum_drop_out have better performances than the other two schemes. Because loss decreases quicky in the first 20 iterations for these regularization schemes, and loss are lower in each iteration.  \n",
    "  \n",
    "It performs worse than when nodes in hidden layer is 3. Becaseu loss are in genral higher for same iterations and loss doesn't decrease monotonically as iteration increases. \n"
   ]
  },
  {
   "cell_type": "markdown",
   "metadata": {},
   "source": [
    "### – C. Repeat 1.1 however now include the timeit function to measure the amount of time it takes to execute the code using the default parameters. How long does it take each one of the fitting schemes to run? Display your results as a table."
   ]
  },
  {
   "cell_type": "code",
   "execution_count": 14,
   "metadata": {
    "collapsed": true
   },
   "outputs": [],
   "source": [
    "##########################\n",
    "#   Importing libraries  #\n",
    "##########################\n",
    "import numpy as np\n",
    "import pandas as pd\n",
    "from matplotlib import pyplot as py\n",
    "import time\n",
    "\n",
    "#%%%%%%%%%%%%%%%%%%%%%%%%%%%%%%\n",
    "#   Generate some training    #\n",
    "#      data from a GMM        #\n",
    "###############################\n",
    "def gen_gmm_data(n = 999, plot=False):\n",
    "    # Fixing seed for repeatability\n",
    "    np.random.seed(123)\n",
    "    \n",
    "    # Parameters of a normal distribuion\n",
    "    mean_1 = [0, 2] ; mean_2 = [2, -2] ; mean_3 = [-2, -2]\n",
    "    mean = [mean_1, mean_2, mean_3] ; cov = [[1, 0], [0, 1]]  \n",
    "    \n",
    "    # Setting up the class probabilities\n",
    "    n_samples = n\n",
    "    pr_class_1 = pr_class_2 = pr_class_3 = 1/3.0\n",
    "    n_class = (n_samples * np.array([pr_class_1,pr_class_2, pr_class_3])).astype(int)\n",
    "  \n",
    "    # Generate sample data\n",
    "    for i in range(3):\n",
    "        x1,x2 = np.random.multivariate_normal(mean[i], cov, n_class[i]).T\n",
    "        if (i==0):\n",
    "            xs = np.array([x1,x2])\n",
    "            cl = np.array([n_class[i]*[i]])\n",
    "        else: \n",
    "            xs_new = np.array([x1,x2])\n",
    "            cl_new = np.array([n_class[i]*[i]])\n",
    "            xs = np.concatenate((xs, xs_new), axis = 1)\n",
    "            cl = np.concatenate((cl, cl_new), axis = 1)\n",
    "    \n",
    "    # Plot?\n",
    "    if plot:\n",
    "        py.scatter(xs[:1,:],xs[1:,:], c = cl)\n",
    "\n",
    "    # One hot encoding classes\n",
    "    y = pd.Series(cl[0].tolist())\n",
    "    y = pd.get_dummies(y).as_matrix() \n",
    "\n",
    "    # Normalizing data (prevents overflow errors)     \n",
    "    mu = xs.mean(axis = 1)\n",
    "    std = xs.std(axis = 1)\n",
    "    xs = (xs.T - mu) / std\n",
    "    \n",
    "    return xs, y, cl"
   ]
  },
  {
   "cell_type": "code",
   "execution_count": 15,
   "metadata": {
    "collapsed": true
   },
   "outputs": [],
   "source": [
    "#%%%%%%%%%%%%%%%%%%%%%%%\n",
    "#    Hidden Units     #\n",
    "#######################\n",
    "ReLU = np.vectorize(lambda z: np.fmax(0,z))\n",
    "sigmoid = lambda z: 1 / (1 + np.exp(-z))\n",
    "softmax = lambda z: np.exp(z)/(np.sum(np.exp(z),axis=1))[:,np.newaxis]\n",
    "\n",
    "# %%%%%%%%%%%%%%%%%%%%%\n",
    "#  Utility Functions  #\n",
    "# #####################\n",
    "def predict(Y_hat):\n",
    "    return np.argmax(Y_hat, axis=1)\n",
    "\n",
    "\n",
    "def error_rate(Y_hat, cl):\n",
    "    prediction = predict(Y_hat)\n",
    "    return np.mean(prediction != cl)\n",
    "\n",
    "\n",
    "def cost(Y_hat, Y):\n",
    "    tot = Y * np.log(Y_hat)\n",
    "    return -tot.sum()\n",
    "\n",
    "#%%%%%%%%%%%%%%%%%%%%%%%%%%%%%%%%%%%\n",
    "#   1- Hidden Layer ReLU Network   #\n",
    "####################################\n",
    "def forward(X,parameters, drop_out = 1):\n",
    "    # Unpacking parameters    \n",
    "    W,b1,V,b2 = parameters\n",
    "    \n",
    "    # Forward pass\n",
    "    a1 = X.dot(W) + b1\n",
    "    H = ReLU(a1) * drop_out\n",
    "    # H = sigmoid(a1) * drop_out\n",
    "    a2 = H.dot(V) + b2\n",
    "    Y_hat = softmax(a2)\n",
    "    return H,Y_hat\n",
    "\n",
    "#%%%%%%%%%%%%%%%\n",
    "#   Gradient   #\n",
    "################\n",
    "\n",
    "def grad(X,H,Y,Y_hat,parameters):  \n",
    "    # Unpacking parameters    \n",
    "    W,b1,V,b2 = parameters\n",
    "    # Gradients - ReLU\n",
    "    dV = H.T.dot(Y_hat - Y)\n",
    "    db2 = (Y_hat - Y).sum(axis=0)\n",
    "    dW = X.T.dot(((Y_hat - Y).dot(V.T) * (H > 0))) \n",
    "    db1 = ((Y_hat - Y).dot(V.T) * (H > 0)).sum(axis=0)\n",
    "    \n",
    "    # Gradients - sigmoid\n",
    "    # dW = X.T.dot((Y_hat-Y).dot(V) * (H * (1 - H)))\n",
    "    # db1 = (Y_hat-Y).dot(V) * (H * (1 - H)).sum(axis=0)\n",
    "    \n",
    "    \n",
    "    #return {'dV':dV,'db2':db2,'dW':dW,'db1':db1}\n",
    "    return dW,db1,dV,db2\n",
    "\n",
    "#%%%%%%%%%%%%%%%%%%%%%%%%%%%%%%%%%%%%%%%%%%%%%%%%%%\n",
    "#   Parameter Update: Momentum + Regularization   #\n",
    "###################################################\n",
    "def parameter_update(parameters,  grads, \n",
    "                     momentum_params = [0,0,0,0], \n",
    "                     lr = 1, reg = 0, alpha = 0):\n",
    "    # Unpacking parameters            \n",
    "    W,b1,V,b2 = parameters\n",
    "    dW,db1,dV,db2 = grads\n",
    "    vW,vb1,vV,vb2 = momentum_params\n",
    "    \n",
    "    # Momentum update\n",
    "    vW  = alpha * vW -  lr * (dW + reg*W)\n",
    "    vb1 = alpha * vb1 - lr * (db1 + reg*b1)\n",
    "    vV  = alpha * vV -  lr * (dV + reg*V)\n",
    "    vb2 = alpha * vb2 - lr * (db2 + reg*b2)\n",
    "    momentum_params = [vW,vb1,vV,vb2] \n",
    "    \n",
    "    # Parameter updates\n",
    "    W  = W  + vW\n",
    "    b1 = b1 + vb1\n",
    "    V  = V  + vV\n",
    "    b2 = b2 + vb2\n",
    "    parameters =[W,b1,V,b2]\n",
    "\n",
    "             \n",
    "    return parameters, momentum_params\n",
    "\n",
    "#%%%%%%%%%%%%%%%%%%%%%%%%%%%%%%%%\n",
    "#  Generate data for network    #\n",
    "#################################\n",
    "X, Y, cl = gen_gmm_data()\n",
    "\n",
    "# %%%%%%%%%%%%%%%%%%%%%%%%%%%%%\n",
    "#      Building the model     #\n",
    "###############################\n",
    "def run_model(X, Y, cl,\n",
    "              nodes_in_hidden_layer = 3,\n",
    "              num_dim = 2,     # <- number of dimensions here it is 2: x1,x2\n",
    "              num_classes = 3, # <- number of classes in the problem\n",
    "              iterations = 1000,\n",
    "              regularization_include = False,\n",
    "              momentum_include = False,\n",
    "              drop_out_include = False):    \n",
    "\n",
    "    \n",
    "    ###################################\n",
    "    #   Initial values for network    #\n",
    "    ###################################\n",
    "    # Intialize weights\n",
    "    np.random.seed(123)\n",
    "    W = np.random.randn(num_dim * nodes_in_hidden_layer).reshape(num_dim,nodes_in_hidden_layer)\n",
    "    b1 = 0\n",
    "    V = np.random.randn(num_classes * nodes_in_hidden_layer).reshape(nodes_in_hidden_layer,num_classes)\n",
    "    b2 = 0\n",
    "    parameters = [W,b1,V,b2]\n",
    "    \n",
    "    \n",
    "    # Hyperparameters \n",
    "    lr = 0.0001 # learning rate\n",
    "    reg = 0.01 * regularization_include\n",
    "    \n",
    "    # Momentum parameters\n",
    "    alpha = 0.9 * momentum_include\n",
    "    vV = 0\n",
    "    vb2 = 0\n",
    "    vW = 0\n",
    "    vb1 = 0\n",
    "    momentum_params = [vW,vb1,vV,vb2]    \n",
    "    \n",
    "    # Place holder for losses\n",
    "    losses = []\n",
    "    errors = []    \n",
    "   \n",
    "    ###################\n",
    "    #   Run the model #\n",
    "    ###################\n",
    "    for i in range(0,iterations):\n",
    "        # -- Drop Out Mask --\n",
    "        # When !=1 then ddrop rate is 12.5%  (~0.5/4 = 12.5%)\n",
    "        # Short cut to include drop_out \n",
    "        drop_out =  (1 - drop_out_include) + drop_out_include * np.round(1-np.random.rand(nodes_in_hidden_layer)/4) \n",
    "        \n",
    "        # -- Forward propoagation --\n",
    "        H,Y_hat = forward(X,parameters,drop_out)\n",
    "        \n",
    "        # -- Backward propagation --\n",
    "        # Gradient calculation\n",
    "        grads_in = grad(X,H,Y,Y_hat,parameters)\n",
    "        # Parameter update\n",
    "        new_params, new_mom_param = parameter_update(parameters, grads_in, \n",
    "                             momentum_params, alpha = alpha, \n",
    "                             lr = lr, reg = reg)\n",
    "        \n",
    "        # -- Updating values --\n",
    "        H,Y_hat = forward(X,new_params, drop_out)\n",
    "        parameters = new_params\n",
    "        momentum_params = new_mom_param\n",
    "        # Prediction and Error rate            \n",
    "        errs_i = error_rate(Y_hat, cl) ; errors.append(errs_i)\n",
    "        loss_i = cost(Y_hat, Y); losses.append(loss_i)\n",
    "       \n",
    "    return {\"errors\":errs_i, \"loss\":losses, \"parameters\":parameters}"
   ]
  },
  {
   "cell_type": "code",
   "execution_count": 16,
   "metadata": {},
   "outputs": [
    {
     "data": {
      "text/plain": [
       "4.2826987"
      ]
     },
     "execution_count": 16,
     "metadata": {},
     "output_type": "execute_result"
    }
   ],
   "source": [
    "start_time = time.clock()\n",
    "run_model(X,Y,cl, iterations = 100,\n",
    "              regularization_include = False,\n",
    "              momentum_include = False,\n",
    "              drop_out_include = False)\n",
    "vanilla_sgd_time = time.clock() - start_time\n",
    "vanilla_sgd_time\n",
    "\n"
   ]
  },
  {
   "cell_type": "code",
   "execution_count": 17,
   "metadata": {},
   "outputs": [
    {
     "data": {
      "text/plain": [
       "3.3885401999999996"
      ]
     },
     "execution_count": 17,
     "metadata": {},
     "output_type": "execute_result"
    }
   ],
   "source": [
    "start_time = time.clock()\n",
    "run_model(X,Y,cl, iterations = 100,\n",
    "              regularization_include = True,\n",
    "              momentum_include = False,\n",
    "              drop_out_include = False)\n",
    "sgd_w_reg_time = time.clock() - start_time\n",
    "sgd_w_reg_time"
   ]
  },
  {
   "cell_type": "code",
   "execution_count": 18,
   "metadata": {},
   "outputs": [
    {
     "data": {
      "text/plain": [
       "3.2419177"
      ]
     },
     "execution_count": 18,
     "metadata": {},
     "output_type": "execute_result"
    }
   ],
   "source": [
    "start_time = time.clock()\n",
    "run_model(X,Y,cl, iterations = 100,\n",
    "                              regularization_include = True,\n",
    "                              momentum_include = True,\n",
    "                              drop_out_include = False)\n",
    "sgd_w_reg_momentum_time = time.clock() - start_time\n",
    "sgd_w_reg_momentum_time"
   ]
  },
  {
   "cell_type": "code",
   "execution_count": 19,
   "metadata": {},
   "outputs": [
    {
     "data": {
      "text/plain": [
       "5.3888286"
      ]
     },
     "execution_count": 19,
     "metadata": {},
     "output_type": "execute_result"
    }
   ],
   "source": [
    "start_time = time.clock()\n",
    "run_model(X,Y,cl, iterations = 100,\n",
    "                                      regularization_include = True,\n",
    "                                      momentum_include = True,\n",
    "                                      drop_out_include = True)\n",
    "sgd_w_reg_momentum_drop_out_time = time.clock() - start_time\n",
    "sgd_w_reg_momentum_drop_out_time"
   ]
  },
  {
   "cell_type": "code",
   "execution_count": 20,
   "metadata": {},
   "outputs": [
    {
     "name": "stdout",
     "output_type": "stream",
     "text": [
      "                                    0\n",
      "4.282699                  vanilla_sgd\n",
      "3.388540                    sgd_w_reg\n",
      "3.241918               sgd_w_momentum\n",
      "5.388829  sgd_w_reg_momentum_drop_out\n"
     ]
    }
   ],
   "source": [
    "import pandas as pd\n",
    "\n",
    " \n",
    "# list of strings\n",
    "scheme = ['vanilla_sgd','sgd_w_reg','sgd_w_momentum','sgd_w_reg_momentum_drop_out']\n",
    "time = [vanilla_sgd_time,sgd_w_reg_time,sgd_w_reg_momentum_time,sgd_w_reg_momentum_drop_out_time]\n",
    " \n",
    "# Calling DataFrame constructor on list\n",
    "df = pd.DataFrame(scheme, time)\n",
    "print(df)"
   ]
  }
 ],
 "metadata": {
  "kernelspec": {
   "display_name": "Python 3",
   "language": "python",
   "name": "python3"
  },
  "language_info": {
   "codemirror_mode": {
    "name": "ipython",
    "version": 3
   },
   "file_extension": ".py",
   "mimetype": "text/x-python",
   "name": "python",
   "nbconvert_exporter": "python",
   "pygments_lexer": "ipython3",
   "version": "3.6.1"
  }
 },
 "nbformat": 4,
 "nbformat_minor": 2
}
