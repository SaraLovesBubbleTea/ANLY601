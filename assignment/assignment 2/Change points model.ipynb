{
 "cells": [
  {
   "cell_type": "code",
   "execution_count": 1,
   "metadata": {},
   "outputs": [],
   "source": [
    "# Load libraries\n",
    "import numpy as np\n",
    "from numpy.linalg import inv \n",
    "import scipy as sp\n",
    "import pandas as pd\n",
    "import os\n",
    "os.environ[\"MKL_THREADING_LAYER\"] = \"GNU\"\n",
    "\n",
    "# Plotting libarires\n",
    "import plotnine as pn\n",
    "from plotnine import *\n",
    "import corner \n",
    "\n",
    "# Importing pymc3\n",
    "import pymc3 as pm\n",
    "\n",
    "# Supressing warnings\n",
    "import warnings\n",
    "warnings.filterwarnings(\"ignore\")\n",
    "# warnings.filterwarnings(\"default\")"
   ]
  },
  {
   "cell_type": "markdown",
   "metadata": {},
   "source": [
    "### Lodaing the data"
   ]
  },
  {
   "cell_type": "code",
   "execution_count": 2,
   "metadata": {},
   "outputs": [
    {
     "data": {
      "text/html": [
       "<div>\n",
       "<style scoped>\n",
       "    .dataframe tbody tr th:only-of-type {\n",
       "        vertical-align: middle;\n",
       "    }\n",
       "\n",
       "    .dataframe tbody tr th {\n",
       "        vertical-align: top;\n",
       "    }\n",
       "\n",
       "    .dataframe thead th {\n",
       "        text-align: right;\n",
       "    }\n",
       "</style>\n",
       "<table border=\"1\" class=\"dataframe\">\n",
       "  <thead>\n",
       "    <tr style=\"text-align: right;\">\n",
       "      <th></th>\n",
       "      <th>time</th>\n",
       "      <th>observed_counts</th>\n",
       "    </tr>\n",
       "  </thead>\n",
       "  <tbody>\n",
       "    <tr>\n",
       "      <th>0</th>\n",
       "      <td>1</td>\n",
       "      <td>2</td>\n",
       "    </tr>\n",
       "    <tr>\n",
       "      <th>1</th>\n",
       "      <td>2</td>\n",
       "      <td>4</td>\n",
       "    </tr>\n",
       "    <tr>\n",
       "      <th>2</th>\n",
       "      <td>3</td>\n",
       "      <td>4</td>\n",
       "    </tr>\n",
       "    <tr>\n",
       "      <th>3</th>\n",
       "      <td>4</td>\n",
       "      <td>4</td>\n",
       "    </tr>\n",
       "    <tr>\n",
       "      <th>4</th>\n",
       "      <td>5</td>\n",
       "      <td>6</td>\n",
       "    </tr>\n",
       "  </tbody>\n",
       "</table>\n",
       "</div>"
      ],
      "text/plain": [
       "   time  observed_counts\n",
       "0     1                2\n",
       "1     2                4\n",
       "2     3                4\n",
       "3     4                4\n",
       "4     5                6"
      ]
     },
     "execution_count": 2,
     "metadata": {},
     "output_type": "execute_result"
    }
   ],
   "source": [
    "count_data = pd.read_csv('change_point1.csv').rename({'x':'time','y':'observed_counts'},axis=1)\n",
    "count_data.head()"
   ]
  },
  {
   "cell_type": "code",
   "execution_count": 3,
   "metadata": {},
   "outputs": [
    {
     "data": {
      "text/plain": [
       "<matplotlib.axes._subplots.AxesSubplot at 0x18fc50b6f28>"
      ]
     },
     "execution_count": 3,
     "metadata": {},
     "output_type": "execute_result"
    },
    {
     "data": {
      "image/png": "[encoded data removed]",
      "text/plain": [
       "<Figure size 1080x360 with 1 Axes>"
      ]
     },
     "metadata": {
      "needs_background": "light"
     },
     "output_type": "display_data"
    }
   ],
   "source": [
    "# Visualize the data\n",
    "count_data.plot(x = 'time', y ='observed_counts',  kind = 'bar', figsize=(15,5))"
   ]
  },
  {
   "cell_type": "markdown",
   "metadata": {},
   "source": [
    "It is hard to see in the graph when the change took place. "
   ]
  },
  {
   "cell_type": "markdown",
   "metadata": {},
   "source": [
    "### Building the model"
   ]
  },
  {
   "cell_type": "code",
   "execution_count": 4,
   "metadata": {},
   "outputs": [],
   "source": [
    "# Setting up constants\n",
    "mean_of_counts = count_data.observed_counts.mean()\n",
    "alpha = 1.0/mean_of_counts\n",
    "l = len(count_data)"
   ]
  },
  {
   "cell_type": "code",
   "execution_count": 5,
   "metadata": {},
   "outputs": [],
   "source": [
    "# - Defining the base stochastic parameters in the model - \n",
    "model = pm.Model()\n",
    "\n",
    "with model:\n",
    "\n",
    "    lambda_1 = pm.Exponential('lambda_1',alpha)\n",
    "    lambda_2 = pm.Exponential('lambda_2',alpha)\n",
    "\n",
    "    tau = pm.DiscreteUniform('tau',lower = 0, upper= l-1)"
   ]
  },
  {
   "cell_type": "code",
   "execution_count": 6,
   "metadata": {},
   "outputs": [],
   "source": [
    "# - Defining how lambda switches - \n",
    "with model:\n",
    "    idx = count_data.time\n",
    "    lambda_ = pm.math.switch(tau > idx, lambda_1, lambda_2) # This is a deterministic function"
   ]
  },
  {
   "cell_type": "code",
   "execution_count": 7,
   "metadata": {},
   "outputs": [],
   "source": [
    "# - Relating our data to the model -\n",
    "with model:\n",
    "    observation = pm.Poisson(\"obs\", lambda_, observed=count_data.observed_counts)"
   ]
  },
  {
   "cell_type": "code",
   "execution_count": 8,
   "metadata": {},
   "outputs": [
    {
     "name": "stderr",
     "output_type": "stream",
     "text": [
      "Multiprocess sampling (4 chains in 2 jobs)\n",
      "CompoundStep\n",
      ">Metropolis: [tau]\n",
      ">Metropolis: [lambda_2]\n",
      ">Metropolis: [lambda_1]\n",
      "Sampling 4 chains, 0 divergences: 100%|█████████████████████████████████████| 60000/60000 [00:51<00:00, 1175.28draws/s]\n",
      "The number of effective samples is smaller than 25% for some parameters.\n"
     ]
    }
   ],
   "source": [
    "# - Running sampler -\n",
    "chains = 4\n",
    "samples = 10000\n",
    "\n",
    "with model:\n",
    "    step = pm.Metropolis()\n",
    "    trace = pm.sample(draws = samples, \n",
    "                      chains = chains, \n",
    "                      tune=5000,\n",
    "                      step=step)"
   ]
  },
  {
   "cell_type": "markdown",
   "metadata": {},
   "source": [
    "### What does the distribution of our parameters look like?"
   ]
  },
  {
   "cell_type": "code",
   "execution_count": 9,
   "metadata": {},
   "outputs": [],
   "source": [
    "# - Posterior values -\n",
    "lambda_1_samples =  trace['lambda_1']\n",
    "lambda_2_samples = trace['lambda_2']\n",
    "tau_samples = trace['tau']\n",
    "\n",
    "# - Posterior distribution -\n",
    "posterior_dist = pd.DataFrame({'lambda_1': lambda_1_samples, 'lambda_2': lambda_2_samples, 'tau' : tau_samples})\n",
    "posterior_dist = posterior_dist.unstack().reset_index()\n",
    "posterior_dist = posterior_dist.rename(columns = {'level_0':'Parameter',\n",
    "                                                  'level_1':'Sample',\n",
    "                                                  0:'simulated_parameter'})"
   ]
  },
  {
   "cell_type": "code",
   "execution_count": 10,
   "metadata": {},
   "outputs": [
    {
     "data": {
      "image/png": "[encoded data removed]",
      "text/plain": [
       "<Figure size 1500x300 with 3 Axes>"
      ]
     },
     "metadata": {},
     "output_type": "display_data"
    },
    {
     "data": {
      "text/plain": [
       "<ggplot: (107317136346)>"
      ]
     },
     "execution_count": 10,
     "metadata": {},
     "output_type": "execute_result"
    }
   ],
   "source": [
    "# Plot options\n",
    "pn.options.figure_size = (15,3)\n",
    "pn.options.dpi = 100\n",
    "\n",
    "# Plotting distribution\n",
    "ggplot(aes(x = 'simulated_parameter', fill = 'Parameter'), data = posterior_dist)\\\n",
    "+ geom_histogram(bins = 70)\\\n",
    "+ facet_wrap(['Parameter'],scales='free')\\\n",
    "+ theme_bw()\\\n",
    "+ theme(axis_text_x = element_text(color=\"grey\", size=10, angle=90, hjust=.5),\n",
    "        axis_text_y = element_text(color=\"grey\", size=10))"
   ]
  },
  {
   "cell_type": "markdown",
   "metadata": {},
   "source": [
    "### What are good estimates for switch point?"
   ]
  },
  {
   "cell_type": "code",
   "execution_count": 11,
   "metadata": {},
   "outputs": [
    {
     "name": "stdout",
     "output_type": "stream",
     "text": [
      "\n",
      "---------------------------------------------------------------------\n",
      "The MAP estimate for the switch point is at 81.0.\n",
      "The MAP estimate for the rate BEFORE the switch point is 3.56.\n",
      "The MAP estimate for the rate AFTER the switch point is 10.26.\n",
      "---------------------------------------------------------------------\n",
      "\n"
     ]
    }
   ],
   "source": [
    "# Rounding to nearest 100th\n",
    "posterior_dist['simulated_parameter'] = np.round(posterior_dist['simulated_parameter'],2)\n",
    "\n",
    "# Getting MAP estimates of simulated values\n",
    "MAP_estimates = posterior_dist.groupby('Parameter').simulated_parameter.agg(pd.Series.mode)\n",
    "\n",
    "# Getting the summarized values\n",
    "out = '''\n",
    "---------------------------------------------------------------------\n",
    "The MAP estimate for the switch point is at {switch_point_time}.\n",
    "The MAP estimate for the rate BEFORE the switch point is {lambda_1}.\n",
    "The MAP estimate for the rate AFTER the switch point is {lambda_2}.\n",
    "---------------------------------------------------------------------\n",
    "'''.format(switch_point_time = MAP_estimates.tau,\n",
    "          lambda_1 = MAP_estimates.lambda_1,\n",
    "          lambda_2 = MAP_estimates.lambda_2,)\n",
    "print(out)\n",
    "# pm.find_MAP(model=model)"
   ]
  }
 ],
 "metadata": {
  "kernelspec": {
   "display_name": "Python 3",
   "language": "python",
   "name": "python3"
  },
  "language_info": {
   "codemirror_mode": {
    "name": "ipython",
    "version": 3
   },
   "file_extension": ".py",
   "mimetype": "text/x-python",
   "name": "python",
   "nbconvert_exporter": "python",
   "pygments_lexer": "ipython3",
   "version": "3.6.5"
  }
 },
 "nbformat": 4,
 "nbformat_minor": 2
}
